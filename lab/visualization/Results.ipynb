{
 "cells": [
  {
   "cell_type": "code",
   "execution_count": 1,
   "metadata": {},
   "outputs": [],
   "source": [
    "import json\n",
    "import math\n",
    "import numpy as np"
   ]
  },
  {
   "cell_type": "code",
   "execution_count": 2,
   "metadata": {},
   "outputs": [],
   "source": [
    "with open('../resultFiles/results_lab_4_cp.json', 'r') as f:\n",
    "    \n",
    "    data = json.loads(f.read())"
   ]
  },
  {
   "cell_type": "code",
   "execution_count": 3,
   "metadata": {},
   "outputs": [
    {
     "name": "stdout",
     "output_type": "stream",
     "text": [
      "msls;random;edges;36879.66;510.46;35990;37886;36880.6;728.18;35170;37669\n",
      "small_perturbation_4;random;edges;35407.93;537.64;34086;36220;35832.73;997.53;34359;37530\n",
      "small_perturbation_8;random;edges;35034.4;869.01;33098;36430;36096.93;877.22;34691;37362\n",
      "small_perturbation_12;random;edges;36026.8;1290.56;33981;39280;37001.8;965.66;35403;39063\n",
      "small_perturbation_16;random;edges;36529.53;992.84;34813;38006;37340.8;538.38;36452;38282\n",
      "large_scale_neighborhood_20;random;edges;33269.13;215.34;32903;33584;33770.8;347.79;33111;34341\n",
      "large_scale_neighborhood_30;random;edges;32938.86;208.96;32543;33281;33632.06;218.12;33234;33980\n",
      "large_scale_neighborhood_40;random;edges;32813.86;222.12;32450;33182;33603.73;319.1;33054;34047\n",
      "large_scale_neighborhood_50;random;edges;32961.66;288.77;32501;33465;33524.6;430.33;32835;34141\n"
     ]
    }
   ],
   "source": [
    "#iterate through all combinations and compute min, max, avg for f\n",
    "for algorithm in data[\"algorithm\"]:\n",
    "    \n",
    "    kroa = []\n",
    "    krob = []\n",
    "    \n",
    "    for instance in algorithm[\"instance\"]:\n",
    "        \n",
    "        f_meta = np.array(instance[\"f\"], dtype=float)\n",
    "        f_meta_avg = np.average(f_meta)\n",
    "        f_meta_avg = int(f_meta_avg * 100) / 100\n",
    "        f_meta_min = np.min(f_meta).astype(int)\n",
    "        f_meta_max = np.max(f_meta).astype(int)\n",
    "        f_std = np.std(f_meta)\n",
    "        f_std = int(f_std * 100) / 100\n",
    "        \n",
    "        if instance[\"name\"] == \"kroA100\":\n",
    "            kroa += [str(f_meta_avg),str(f_std), str(f_meta_min), str(f_meta_max)]\n",
    "        else:\n",
    "            krob += [str(f_meta_avg),str(f_std), str(f_meta_min), str(f_meta_max)]\n",
    "        \n",
    "    out = [algorithm[\"type_meta\"], algorithm[\"type\"],algorithm[\"neighbourhood\"]] + kroa + krob\n",
    "    print(';'.join(out))\n"
   ]
  },
  {
   "cell_type": "code",
   "execution_count": 5,
   "metadata": {},
   "outputs": [
    {
     "name": "stdout",
     "output_type": "stream",
     "text": [
      "msls;random;edges;54212.26;1449.81;52277;56385;54264.26;1287.01;52194;56433\n",
      "small_perturbation_4;random;edges;60013.46;10.82;60000;60035;60016.0;11.86;60001;60039\n",
      "small_perturbation_8;random;edges;60040.46;20.91;60014;60087;60044.6;18.94;60013;60076\n",
      "small_perturbation_12;random;edges;60077.33;41.8;60012;60162;60068.66;44.43;60002;60140\n",
      "small_perturbation_16;random;edges;60106.26;39.58;60033;60163;60084.13;52.26;60007;60190\n",
      "large_scale_neighborhood_20;random;edges;60001.6;1.01;60000;60003;60001.53;1.14;60000;60003\n",
      "large_scale_neighborhood_30;random;edges;60003.2;2.16;60000;60006;60003.66;1.95;60000;60006\n",
      "large_scale_neighborhood_40;random;edges;60003.86;3.49;60000;60011;60006.73;3.33;60001;60012\n",
      "large_scale_neighborhood_50;random;edges;60008.86;5.85;60000;60017;60010.93;4.79;60003;60018\n"
     ]
    }
   ],
   "source": [
    "#iterate through all combinations and compute min, max, avg for f\n",
    "for algorithm in data[\"algorithm\"]:\n",
    "    \n",
    "    kroa = []\n",
    "    krob = []\n",
    "    \n",
    "    for instance in algorithm[\"instance\"]:\n",
    "        \n",
    "        t_meta = np.array(instance[\"t_meta\"], dtype=float)\n",
    "        t_meta_avg = np.average(t_meta)\n",
    "        t_meta_avg = int(t_meta_avg * 100) / 100\n",
    "        t_meta_min = np.min(t_meta).astype(int)\n",
    "        t_meta_max = np.max(t_meta).astype(int)\n",
    "        t_std = np.std(t_meta)\n",
    "        t_std = int(t_std * 100) / 100\n",
    "        \n",
    "        if instance[\"name\"] == \"kroA100\":\n",
    "            kroa += [str(t_meta_avg), str(t_std), str(t_meta_min), str(t_meta_max)]\n",
    "        else:\n",
    "            krob += [str(t_meta_avg), str(t_std), str(t_meta_min), str(t_meta_max)]\n",
    "        \n",
    "    out = [algorithm[\"type_meta\"], algorithm[\"type\"],algorithm[\"neighbourhood\"]] + kroa + krob\n",
    "    print(';'.join(out))"
   ]
  },
  {
   "cell_type": "code",
   "execution_count": null,
   "metadata": {},
   "outputs": [],
   "source": []
  }
 ],
 "metadata": {
  "interpreter": {
   "hash": "767d51c1340bd893661ea55ea3124f6de3c7a262a8b4abca0554b478b1e2ff90"
  },
  "kernelspec": {
   "display_name": "Python 3.6.9 64-bit",
   "language": "python",
   "name": "python3"
  },
  "language_info": {
   "codemirror_mode": {
    "name": "ipython",
    "version": 3
   },
   "file_extension": ".py",
   "mimetype": "text/x-python",
   "name": "python",
   "nbconvert_exporter": "python",
   "pygments_lexer": "ipython3",
   "version": "3.7.5"
  },
  "orig_nbformat": 4
 },
 "nbformat": 4,
 "nbformat_minor": 2
}
