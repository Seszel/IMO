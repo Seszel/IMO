{
 "cells": [
  {
   "cell_type": "code",
   "execution_count": 41,
   "metadata": {},
   "outputs": [],
   "source": [
    "import json\n",
    "import math\n",
    "import numpy as np"
   ]
  },
  {
   "cell_type": "code",
   "execution_count": 42,
   "metadata": {},
   "outputs": [],
   "source": [
    "with open('../resultFiles/results_lab_2_cp.json', 'r') as f:\n",
    "    \n",
    "    data = json.loads(f.read())"
   ]
  },
  {
   "cell_type": "code",
   "execution_count": 43,
   "metadata": {},
   "outputs": [
    {
     "name": "stdout",
     "output_type": "stream",
     "text": [
      "local_steepest;greedy;all;23630.43;1864.63;21376;27582;25490.2;1451.08;22632;27941\n",
      "local_steepest;greedy;edges;23773.41;1844.71;21386;27005;25880.0;1526.49;22963;28066\n",
      "local_steepest;greedy;vertices;26106.42;2058.4;22542;30117;28494.06;1760.75;24841;32253\n",
      "local_greedy;greedy;all;24264.23;1719.94;21716;27888;26120.3;1394.41;22988;28622\n",
      "local_greedy;greedy;edges;24646.31;1718.38;21839;27654;26098.65;1514.75;22372;29200\n",
      "local_greedy;greedy;vertices;26483.98;1895.3;23323;31574;28488.18;1487.61;24793;31747\n",
      "blind_runner;greedy;all;29452.96;1913.84;25555;33566;29703.04;1991.69;25637;34391\n",
      "blind_runner;greedy;edges;29395.93;1908.32;25290;33732;30115.9;1841.25;26061;34749\n",
      "blind_runner;greedy;vertices;29180.18;1764.97;25070;32639;30095.4;1935.94;25812;33713\n",
      "local_steepest;cycle_expansion;all;25325.27;2089.84;22455;28240;26106.37;1018.88;24517;27613\n",
      "local_steepest;cycle_expansion;edges;25596.92;2026.66;22455;28614;26316.01;894.06;24517;27601\n",
      "local_steepest;cycle_expansion;vertices;25964.55;2090.02;22916;28621;27354.18;996.44;25381;29074\n",
      "local_greedy;cycle_expansion;all;25664.75;2083.81;22871;28671;26187.14;970.85;24341;28033\n",
      "local_greedy;cycle_expansion;edges;25945.6;2028.2;22615;28671;26227.1;961.46;23638;28369\n",
      "local_greedy;cycle_expansion;vertices;25791.12;2101.79;22657;28671;26943.18;1047.66;25268;29522\n",
      "blind_runner;cycle_expansion;all;26792.84;2001.54;23585;29770;28608.63;1657.91;26296;31757\n",
      "blind_runner;cycle_expansion;edges;26539.75;1922.2;23618;29770;28386.42;1695.26;26252;32217\n",
      "blind_runner;cycle_expansion;vertices;26780.61;1930.3;23556;29770;28383.86;1694.52;26296;31839\n",
      "local_steepest;2regret;all;28273.63;900.56;26481;31015;27986.81;809.75;26067;30033\n",
      "local_steepest;2regret;edges;28427.33;874.88;26737;31405;27865.29;692.77;26408;29790\n",
      "local_steepest;2regret;vertices;28588.14;889.16;26461;30604;27961.17;752.92;26561;30266\n",
      "local_greedy;2regret;all;28812.96;959.01;26513;31455;27822.72;741.56;26533;30237\n",
      "local_greedy;2regret;edges;28448.71;1034.53;26078;30984;27956.96;678.45;26171;30269\n",
      "local_greedy;2regret;vertices;28750.04;1036.59;26735;31321;28058.56;780.17;25917;30124\n",
      "blind_runner;2regret;all;32535.01;651.14;31053;35056;31766.61;772.17;29958;34092\n",
      "blind_runner;2regret;edges;32534.3;611.24;31053;35022;31720.7;801.04;30024;33857\n",
      "blind_runner;2regret;vertices;32627.27;696.77;31016;35032;31733.58;773.32;30258;33857\n",
      "local_steepest;random;all;28264.9;1182.24;25889;30723;28639.28;1092.66;26426;31311\n",
      "local_steepest;random;edges;27850.76;1082.66;25465;31683;28739.75;1117.02;26184;31658\n",
      "local_steepest;random;vertices;42640.41;3683.75;35424;52871;43008.01;3485.41;34380;51586\n",
      "local_greedy;random;all;28347.53;1193.88;25715;31283;28793.14;1088.93;26073;31657\n",
      "local_greedy;random;edges;28086.07;1222.85;25339;31196;28641.78;1055.78;26546;31457\n",
      "local_greedy;random;vertices;41174.08;3933.48;32031;50232;40980.74;3520.52;32267;49514\n",
      "blind_runner;random;all;131994.06;1983.16;126337;135451;129320.09;2759.93;121011;133852\n",
      "blind_runner;random;edges;132002.59;2006.41;125656;135689;129767.22;2316.98;121659;134803\n",
      "blind_runner;random;vertices;131414.93;2092.92;123921;134979;129488.79;1975.57;124417;132950\n",
      "local_steepest;separate_cycles;all;22791.3;610.57;21686;24073;24280.04;483.85;23181;25553\n",
      "local_steepest;separate_cycles;edges;22625.46;600.78;21643;24215;24066.24;564.59;23064;25701\n",
      "local_steepest;separate_cycles;vertices;33329.46;1876.71;28582;38194;35010.24;1735.78;31767;39291\n",
      "local_greedy;separate_cycles;all;23010.6;660.2;21582;25256;24718.56;620.1;23335;26453\n",
      "local_greedy;separate_cycles;edges;23169.58;743.17;21653;25049;24577.83;648.18;23245;26212\n",
      "local_greedy;separate_cycles;vertices;32858.58;1919.19;26643;37243;34209.61;1970.71;29944;40055\n",
      "blind_runner;separate_cycles;all;105279.71;4966.28;91394;119090;106869.05;4639.15;94826;119229\n",
      "blind_runner;separate_cycles;edges;104759.17;3575.72;95526;111919;107953.21;4780.87;94967;118137\n",
      "blind_runner;separate_cycles;vertices;105117.67;4681.42;95276;118941;106186.66;4689.24;93361;117214\n"
     ]
    }
   ],
   "source": [
    "#iterate through all combinations and compute min, max, avg for f\n",
    "for algorithm in data[\"algorithm\"]:\n",
    "    \n",
    "    kroa = []\n",
    "    krob = []\n",
    "    \n",
    "    for instance in algorithm[\"instance\"]:\n",
    "        \n",
    "        f_meta = np.array(instance[\"f\"], dtype=float)\n",
    "        f_meta_avg = np.average(f_meta)\n",
    "        f_meta_avg = int(f_meta_avg * 100) / 100\n",
    "        f_meta_min = np.min(f_meta).astype(int)\n",
    "        f_meta_max = np.max(f_meta).astype(int)\n",
    "        f_std = np.std(f_meta)\n",
    "        f_std = int(f_std * 100) / 100\n",
    "        \n",
    "        if instance[\"name\"] == \"kroA100\":\n",
    "            kroa += [str(f_meta_avg),str(f_std), str(f_meta_min), str(f_meta_max)]\n",
    "        else:\n",
    "            krob += [str(f_meta_avg),str(f_std), str(f_meta_min), str(f_meta_max)]\n",
    "        \n",
    "    out = [algorithm[\"type_meta\"], algorithm[\"type\"],algorithm[\"neighbourhood\"]] + kroa + krob\n",
    "    print(';'.join(out))\n"
   ]
  },
  {
   "cell_type": "code",
   "execution_count": 44,
   "metadata": {},
   "outputs": [
    {
     "name": "stdout",
     "output_type": "stream",
     "text": [
      "local_steepest;greedy;all;58.89;14.01;28;90;49.31;12.22;25;85\n",
      "local_steepest;greedy;edges;45.06;8.85;25;69;37.89;8.57;15;65\n",
      "local_steepest;greedy;vertices;29.02;7.71;11;55;18.92;5.52;9;34\n",
      "local_greedy;greedy;all;37.9;7.88;22;56;33.13;9.1;12;63\n",
      "local_greedy;greedy;edges;25.67;6.25;12;41;23.96;6.59;11;52\n",
      "local_greedy;greedy;vertices;18.98;5.11;9;34;13.26;4.4;4;30\n",
      "blind_runner;greedy;all;500.0;0.0;500;500;500.0;0.0;500;500\n",
      "blind_runner;greedy;edges;500.0;0.0;500;500;500.0;0.0;500;500\n",
      "blind_runner;greedy;vertices;500.0;0.0;500;500;500.0;0.0;500;500\n",
      "local_steepest;cycle_expansion;all;28.91;7.8;10;50;45.06;12.41;22;72\n",
      "local_steepest;cycle_expansion;edges;22.77;5.96;9;38;34.93;10.79;15;58\n",
      "local_steepest;cycle_expansion;vertices;13.98;3.64;7;25;18.8;8.53;5;41\n",
      "local_greedy;cycle_expansion;all;16.44;4.27;8;34;23.77;8.27;13;51\n",
      "local_greedy;cycle_expansion;edges;11.82;2.85;5;23;17.95;5.89;10;35\n",
      "local_greedy;cycle_expansion;vertices;10.11;2.72;5;19;12.78;5.32;5;26\n",
      "blind_runner;cycle_expansion;all;500.0;0.0;500;500;500.0;0.0;500;500\n",
      "blind_runner;cycle_expansion;edges;500.0;0.0;500;500;500.0;0.0;500;500\n",
      "blind_runner;cycle_expansion;vertices;500.0;0.0;500;500;500.0;0.0;500;500\n",
      "local_steepest;2regret;all;80.09;14.64;36;116;67.2;9.78;41;92\n",
      "local_steepest;2regret;edges;60.88;13.73;20;86;50.36;8.29;30;80\n",
      "local_steepest;2regret;vertices;44.49;10.51;20;70;36.51;5.91;23;54\n",
      "local_greedy;2regret;all;37.78;9.09;13;64;34.88;6.21;22;52\n",
      "local_greedy;2regret;edges;29.93;6.24;14;46;26.29;4.11;18;36\n",
      "local_greedy;2regret;vertices;25.76;4.98;12;35;21.64;3.65;14;31\n",
      "blind_runner;2regret;all;500.0;0.0;500;500;500.0;0.0;500;500\n",
      "blind_runner;2regret;edges;500.0;0.0;500;500;500.0;0.0;500;500\n",
      "blind_runner;2regret;vertices;500.0;0.0;500;500;500.0;0.0;500;500\n",
      "local_steepest;random;all;252.44;16.63;212;298;245.49;15.67;208;278\n",
      "local_steepest;random;edges;200.95;12.02;176;228;197.2;12.62;171;231\n",
      "local_steepest;random;vertices;168.62;18.97;123;215;167.67;19.27;133;243\n",
      "local_greedy;random;all;216.05;14.15;173;251;213.76;14.43;179;247\n",
      "local_greedy;random;edges;153.69;10.03;133;187;152.08;9.49;131;178\n",
      "local_greedy;random;vertices;148.36;12.76;112;190;150.82;14.44;120;192\n",
      "blind_runner;random;all;500.0;0.0;500;500;500.0;0.0;500;500\n",
      "blind_runner;random;edges;500.0;0.0;500;500;500.0;0.0;500;500\n",
      "blind_runner;random;vertices;500.0;0.0;500;500;500.0;0.0;500;500\n",
      "local_steepest;separate_cycles;all;207.26;11.03;176;232;208.26;10.4;180;241\n",
      "local_steepest;separate_cycles;edges;178.86;8.09;149;197;176.91;10.97;138;202\n",
      "local_steepest;separate_cycles;vertices;129.36;11.98;105;185;127.56;13.63;96;164\n",
      "local_greedy;separate_cycles;all;183.22;12.03;152;211;179.94;11.52;155;213\n",
      "local_greedy;separate_cycles;edges;118.11;8.29;101;140;119.33;7.3;105;140\n",
      "local_greedy;separate_cycles;vertices;118.02;12.0;91;152;115.76;9.79;89;140\n",
      "blind_runner;separate_cycles;all;500.0;0.0;500;500;500.0;0.0;500;500\n",
      "blind_runner;separate_cycles;edges;500.0;0.0;500;500;500.0;0.0;500;500\n",
      "blind_runner;separate_cycles;vertices;500.0;0.0;500;500;500.0;0.0;500;500\n"
     ]
    }
   ],
   "source": [
    "#iterate through all combinations and compute min, max, avg for f\n",
    "for algorithm in data[\"algorithm\"]:\n",
    "    \n",
    "    kroa = []\n",
    "    krob = []\n",
    "    \n",
    "    for instance in algorithm[\"instance\"]:\n",
    "        \n",
    "        t_meta = np.array(instance[\"t_meta\"], dtype=float)\n",
    "        t_meta_avg = np.average(t_meta)\n",
    "        t_meta_avg = int(t_meta_avg * 100) / 100\n",
    "        t_meta_min = np.min(t_meta).astype(int)\n",
    "        t_meta_max = np.max(t_meta).astype(int)\n",
    "        t_std = np.std(t_meta)\n",
    "        t_std = int(t_std * 100) / 100\n",
    "        \n",
    "        if instance[\"name\"] == \"kroA100\":\n",
    "            kroa += [str(t_meta_avg), str(t_std), str(t_meta_min), str(t_meta_max)]\n",
    "        else:\n",
    "            krob += [str(t_meta_avg), str(t_std), str(t_meta_min), str(t_meta_max)]\n",
    "        \n",
    "    out = [algorithm[\"type_meta\"], algorithm[\"type\"],algorithm[\"neighbourhood\"]] + kroa + krob\n",
    "    print(';'.join(out))"
   ]
  }
 ],
 "metadata": {
  "interpreter": {
   "hash": "767d51c1340bd893661ea55ea3124f6de3c7a262a8b4abca0554b478b1e2ff90"
  },
  "kernelspec": {
   "display_name": "Python 3.6.9 64-bit",
   "language": "python",
   "name": "python3"
  },
  "language_info": {
   "codemirror_mode": {
    "name": "ipython",
    "version": 3
   },
   "file_extension": ".py",
   "mimetype": "text/x-python",
   "name": "python",
   "nbconvert_exporter": "python",
   "pygments_lexer": "ipython3",
   "version": "3.6.9"
  },
  "orig_nbformat": 4
 },
 "nbformat": 4,
 "nbformat_minor": 2
}
